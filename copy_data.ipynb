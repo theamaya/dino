{
 "cells": [
  {
   "cell_type": "code",
   "execution_count": 1,
   "metadata": {
    "collapsed": true,
    "pycharm": {
     "name": "#%%\n"
    }
   },
   "outputs": [],
   "source": [
    "import os\n",
    "import shutil\n",
    "from tqdm.notebook import trange, tqdm"
   ]
  },
  {
   "cell_type": "code",
   "execution_count": 2,
   "outputs": [],
   "source": [
    "src_path= '/home/amaya/repos/VL-LTR/data/imagenet'\n",
    "dest_path= '/home/amaya/repos/VL-LTR/data/longtailonly/imagenet'"
   ],
   "metadata": {
    "collapsed": false,
    "pycharm": {
     "name": "#%%\n"
    }
   }
  },
  {
   "cell_type": "code",
   "execution_count": 3,
   "outputs": [
    {
     "data": {
      "text/plain": "  0%|          | 0/6318 [00:00<?, ?it/s]",
      "application/vnd.jupyter.widget-view+json": {
       "version_major": 2,
       "version_minor": 0,
       "model_id": "229d2efcb91549f0bbed1d67d2f07317"
      }
     },
     "metadata": {},
     "output_type": "display_data"
    }
   ],
   "source": [
    "with open('/home/amaya/repos/VL-LTR/data/imagenet/ImageNet_LT_train.txt') as file:\n",
    "    lines = file.readlines()\n",
    "    lines = [line.rstrip().split(' ') for line in lines]\n",
    "\n",
    "for i in tqdm(range(len(lines))):\n",
    "    file_from= os.path.join(src_path, lines[i][0])\n",
    "    file_to= os.path.join(dest_path, lines[i][0])\n",
    "    os.makedirs(os.path.dirname(file_to), exist_ok=True)\n",
    "    shutil.copyfile(file_from, file_to)"
   ],
   "metadata": {
    "collapsed": false,
    "pycharm": {
     "name": "#%%\n"
    }
   }
  },
  {
   "cell_type": "code",
   "execution_count": 4,
   "outputs": [
    {
     "data": {
      "text/plain": "  0%|          | 0/2000 [00:00<?, ?it/s]",
      "application/vnd.jupyter.widget-view+json": {
       "version_major": 2,
       "version_minor": 0,
       "model_id": "668b60690e9543299c888c7cf3fd6e96"
      }
     },
     "metadata": {},
     "output_type": "display_data"
    }
   ],
   "source": [
    "with open('/home/amaya/repos/VL-LTR/data/imagenet/ImageNet_LT_val.txt') as file:\n",
    "    lines = file.readlines()\n",
    "    lines = [line.rstrip().split(' ') for line in lines]\n",
    "\n",
    "for i in tqdm(range(len(lines))):\n",
    "    file_from= os.path.join(src_path, lines[i][0])\n",
    "    file_to= os.path.join(dest_path, lines[i][0])\n",
    "    os.makedirs(os.path.dirname(file_to), exist_ok=True)\n",
    "    shutil.copyfile(file_from, file_to)"
   ],
   "metadata": {
    "collapsed": false,
    "pycharm": {
     "name": "#%%\n"
    }
   }
  },
  {
   "cell_type": "code",
   "execution_count": 5,
   "outputs": [
    {
     "data": {
      "text/plain": "  0%|          | 0/5000 [00:00<?, ?it/s]",
      "application/vnd.jupyter.widget-view+json": {
       "version_major": 2,
       "version_minor": 0,
       "model_id": "cf5c28e42fb84f29933525be99a27977"
      }
     },
     "metadata": {},
     "output_type": "display_data"
    }
   ],
   "source": [
    "with open('/home/amaya/repos/VL-LTR/data/imagenet/ImageNet_LT_test.txt') as file:\n",
    "    lines = file.readlines()\n",
    "    lines = [line.rstrip().split(' ') for line in lines]\n",
    "\n",
    "for i in tqdm(range(len(lines))):\n",
    "    file_from= os.path.join(src_path, lines[i][0])\n",
    "    file_to= os.path.join(dest_path, lines[i][0])\n",
    "    os.makedirs(os.path.dirname(file_to), exist_ok=True)\n",
    "    shutil.copyfile(file_from, file_to)"
   ],
   "metadata": {
    "collapsed": false,
    "pycharm": {
     "name": "#%%\n"
    }
   }
  },
  {
   "cell_type": "code",
   "execution_count": null,
   "outputs": [],
   "source": [],
   "metadata": {
    "collapsed": false,
    "pycharm": {
     "name": "#%%\n"
    }
   }
  }
 ],
 "metadata": {
  "kernelspec": {
   "display_name": "Python 3",
   "language": "python",
   "name": "python3"
  },
  "language_info": {
   "codemirror_mode": {
    "name": "ipython",
    "version": 2
   },
   "file_extension": ".py",
   "mimetype": "text/x-python",
   "name": "python",
   "nbconvert_exporter": "python",
   "pygments_lexer": "ipython2",
   "version": "2.7.6"
  }
 },
 "nbformat": 4,
 "nbformat_minor": 0
}